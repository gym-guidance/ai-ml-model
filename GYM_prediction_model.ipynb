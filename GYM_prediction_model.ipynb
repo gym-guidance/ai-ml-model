{
  "nbformat": 4,
  "nbformat_minor": 0,
  "metadata": {
    "colab": {
      "provenance": [],
      "authorship_tag": "ABX9TyNyL0zrgZ/+/3RQbjTEIxhX",
      "include_colab_link": true
    },
    "kernelspec": {
      "name": "python3",
      "display_name": "Python 3"
    },
    "language_info": {
      "name": "python"
    }
  },
  "cells": [
    {
      "cell_type": "markdown",
      "metadata": {
        "id": "view-in-github",
        "colab_type": "text"
      },
      "source": [
        "<a href=\"https://colab.research.google.com/github/gym-guidance/ai-ml-model/blob/main/GYM_prediction_model.ipynb\" target=\"_parent\"><img src=\"https://colab.research.google.com/assets/colab-badge.svg\" alt=\"Open In Colab\"/></a>"
      ]
    },
    {
      "cell_type": "code",
      "execution_count": 1,
      "metadata": {
        "colab": {
          "base_uri": "https://localhost:8080/"
        },
        "id": "_KEr1HIlZGmM",
        "outputId": "ad716c31-8e9e-4cbb-abc8-04cc73dd9af1"
      },
      "outputs": [
        {
          "output_type": "stream",
          "name": "stdout",
          "text": [
            "Accuracy: 0.0\n",
            "Recommended Exercise: Squats, Bench Press, Deadlifts\n"
          ]
        },
        {
          "output_type": "stream",
          "name": "stderr",
          "text": [
            "/usr/local/lib/python3.10/dist-packages/sklearn/base.py:493: UserWarning: X does not have valid feature names, but StandardScaler was fitted with feature names\n",
            "  warnings.warn(\n"
          ]
        }
      ],
      "source": [
        "import pandas as pd\n",
        "import numpy as np\n",
        "from sklearn.preprocessing import StandardScaler\n",
        "from sklearn.model_selection import train_test_split\n",
        "from sklearn.ensemble import RandomForestClassifier\n",
        "\n",
        "# Sample dataset (users and exercises)\n",
        "data = {\n",
        "    'Age': [25, 30, 22, 35, 28],\n",
        "    'Weight': [75, 85, 70, 95, 80],\n",
        "    'Height': [175, 180, 165, 178, 172],\n",
        "    'Gender': [1, 1, 0, 1, 0],  # 1: Male, 0: Female\n",
        "    'BMI': [24.49, 26.23, 25.71, 30.04, 27.02],\n",
        "    'Goal': ['Muscle Gain', 'Weight Loss', 'Muscle Gain', 'Weight Loss', 'Maintenance'],  # Fitness goal\n",
        "    'Recommended_Exercise': ['Squats, Bench Press, Deadlifts', 'Treadmill, Squats, Push-ups', 'Deadlifts, Rows, Squats', 'Cycling, Planks, Push-ups', 'Walking, Push-ups, Squats']\n",
        "}\n",
        "\n",
        "# Convert to DataFrame\n",
        "df = pd.DataFrame(data)\n",
        "\n",
        "# We can derive the target and input variables\n",
        "X = df[['Age', 'Weight', 'Height', 'Gender', 'BMI']]  # Input features\n",
        "y = df['Recommended_Exercise']  # Target variable (exercise recommendation)\n",
        "\n",
        "# Scaling the features\n",
        "scaler = StandardScaler()\n",
        "X_scaled = scaler.fit_transform(X)\n",
        "\n",
        "# Train-test split\n",
        "X_train, X_test, y_train, y_test = train_test_split(X_scaled, y, test_size=0.2, random_state=42)\n",
        "\n",
        "# Random Forest Classifier\n",
        "model = RandomForestClassifier(n_estimators=100, random_state=42)\n",
        "model.fit(X_train, y_train)\n",
        "\n",
        "# Predicting on the test set\n",
        "predictions = model.predict(X_test)\n",
        "\n",
        "# Evaluate model\n",
        "from sklearn.metrics import accuracy_score\n",
        "print(\"Accuracy:\", accuracy_score(y_test, predictions))\n",
        "\n",
        "# Make recommendations based on user input\n",
        "def recommend_exercise(age, weight, height, gender, bmi):\n",
        "    user_data = np.array([[age, weight, height, gender, bmi]])\n",
        "    user_data_scaled = scaler.transform(user_data)  # scale the user input\n",
        "    recommendation = model.predict(user_data_scaled)\n",
        "    return recommendation[0]\n",
        "\n",
        "# Example usage\n",
        "user_input = {\n",
        "    'age': 27,\n",
        "    'weight': 80,\n",
        "    'height': 175,\n",
        "    'gender': 1,  # Male\n",
        "    'bmi': 26.1\n",
        "}\n",
        "\n",
        "recommendation = recommend_exercise(**user_input)\n",
        "print(\"Recommended Exercise:\", recommendation)\n"
      ]
    }
  ]
}